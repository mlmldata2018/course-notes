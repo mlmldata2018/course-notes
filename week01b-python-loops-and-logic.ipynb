{
 "cells": [
  {
   "cell_type": "markdown",
   "metadata": {},
   "source": [
    "## Scientific computing tools\n",
    "\n",
    "### The python stack\n",
    "\n",
    "<img src='images/python_stack.png' width='600'>\n",
    "Source: T. Connolly\n",
    "\n",
    "Packages are collections of python code\n",
    "Numpy - Numerical computing\n",
    "SciPy - Stats, timeseries \n",
    "Matplotlib - Plotting and figure making\n",
    "Other Packages:\n",
    "   * Pandas: Data analysis\n",
    "   * Basemap: Map making, working with geodata\n",
    "   * xarray: 3D+ data\n",
    "\n",
    "### The shell (bash)\n",
    "\n",
    "[Bash methods](https://ss64.com/bash/) - Note: Not all will work in Git-Bash\n",
    "\n",
    "Common commands:\n",
    "\n",
    "* `ls` - list files and directories from current \n",
    "* `cd` - change directory\n",
    "* `pwd` - list the present working directory\n",
    "* `cp` - copy a file to another locations, for example \n",
    "```\n",
    "cp data.txt documents\n",
    "``` \n",
    "would copy a file called `data.txt` in the current directory to a sub-directory called `documents`.\n",
    "* `mkdir` - make a new directory\n",
    "* `..` - the parent directory\n",
    "\n",
    "Python can be executed from the command line by typing `python` or `ipython`. Both if these commands open an interactive command line interface where Python commands can be entered and the output returned immediately. The IPython console provides a command line interface to Python that is designed to be as user-friendly as possible."
   ]
  },
  {
   "cell_type": "markdown",
   "metadata": {},
   "source": [
    "# Boolean logic\n",
    "\n",
    "In the 19th century, in a book called _The Laws of Thought_, an Irish mathematician named George Boole developed a formal system of logic that laid the foundation for conveying information electronically. Boolean variables are a special type of variable that has two possible values: `True` or `False`. These binary values can also be represented as `1` or `0`. "
   ]
  },
  {
   "cell_type": "code",
   "execution_count": 24,
   "metadata": {},
   "outputs": [
    {
     "data": {
      "text/plain": [
       "bool"
      ]
     },
     "execution_count": 24,
     "metadata": {},
     "output_type": "execute_result"
    }
   ],
   "source": [
    "a = True\n",
    "type(a)"
   ]
  },
  {
   "cell_type": "markdown",
   "metadata": {},
   "source": [
    "In Python, a double equals sign (`==`) tests for equivalancy. This is much different from the single equals sign (`=`), which is used for assignment (assigning a value to a variable)."
   ]
  },
  {
   "cell_type": "code",
   "execution_count": 25,
   "metadata": {},
   "outputs": [
    {
     "name": "stdout",
     "output_type": "stream",
     "text": [
      "True\n",
      "False\n"
     ]
    }
   ],
   "source": [
    "print(1==1)\n",
    "print(1==2)"
   ]
  },
  {
   "cell_type": "code",
   "execution_count": 26,
   "metadata": {},
   "outputs": [
    {
     "name": "stdout",
     "output_type": "stream",
     "text": [
      "True\n",
      "False\n"
     ]
    }
   ],
   "source": [
    "# 1 and 0 can also represent True or False\n",
    "print(1==True)\n",
    "print(1==False)"
   ]
  },
  {
   "cell_type": "code",
   "execution_count": 27,
   "metadata": {},
   "outputs": [
    {
     "name": "stdout",
     "output_type": "stream",
     "text": [
      "True\n",
      "False\n"
     ]
    }
   ],
   "source": [
    "# test for non-equivaalence\n",
    "print(1 != 3)\n",
    "print(1 >= 3) "
   ]
  },
  {
   "cell_type": "code",
   "execution_count": 28,
   "metadata": {},
   "outputs": [
    {
     "name": "stdout",
     "output_type": "stream",
     "text": [
      "False\n"
     ]
    }
   ],
   "source": [
    "print(0 == 1)"
   ]
  },
  {
   "cell_type": "code",
   "execution_count": 29,
   "metadata": {},
   "outputs": [
    {
     "name": "stdout",
     "output_type": "stream",
     "text": [
      "True\n"
     ]
    }
   ],
   "source": [
    "print(0 == False)"
   ]
  },
  {
   "cell_type": "code",
   "execution_count": 30,
   "metadata": {},
   "outputs": [
    {
     "name": "stdout",
     "output_type": "stream",
     "text": [
      "False\n"
     ]
    }
   ],
   "source": [
    "print(True == (0 == 3))"
   ]
  },
  {
   "cell_type": "code",
   "execution_count": 31,
   "metadata": {},
   "outputs": [
    {
     "name": "stdout",
     "output_type": "stream",
     "text": [
      "False\n"
     ]
    }
   ],
   "source": [
    "print((False == (1==True)) != False)"
   ]
  },
  {
   "cell_type": "code",
   "execution_count": 32,
   "metadata": {},
   "outputs": [],
   "source": [
    "#False = False"
   ]
  },
  {
   "cell_type": "markdown",
   "metadata": {},
   "source": [
    "### Logic gates\n",
    "\n",
    "In electronics, logic gates take multiple binary values (on/off) as input and produce a single binary value as output. These logic gates follow the laws of Boolean algebra. The same types of logic gates are used in computer programing. One type of logic gate is the __AND__ gate. The AND gate produces a `True` value only if both inputs are `True`.\n",
    "\n",
    "A Logic Gate performs a logical operation on a binary inputs a single binary outputs\n",
    "\n",
    "<img src='https://i.imgur.com/vbZhU10.jpg' >\n",
    "\n",
    "source(https://imgur.com/vbZhU10)"
   ]
  },
  {
   "cell_type": "code",
   "execution_count": 33,
   "metadata": {},
   "outputs": [
    {
     "name": "stdout",
     "output_type": "stream",
     "text": [
      "0\n",
      "0\n",
      "0\n",
      "1\n"
     ]
    }
   ],
   "source": [
    "print(0 and 0)\n",
    "print(0 and 1)\n",
    "print(1 and 0)\n",
    "print(1 and 1)"
   ]
  },
  {
   "cell_type": "markdown",
   "metadata": {},
   "source": [
    "The __OR__ gate produces a `True` value if at least one input is `True''."
   ]
  },
  {
   "cell_type": "code",
   "execution_count": 34,
   "metadata": {},
   "outputs": [
    {
     "name": "stdout",
     "output_type": "stream",
     "text": [
      "0\n",
      "1\n",
      "1\n",
      "1\n"
     ]
    }
   ],
   "source": [
    "print(0 or 0)\n",
    "print(0 or 1)\n",
    "print(1 or 0)\n",
    "print(1 or 1)"
   ]
  },
  {
   "cell_type": "markdown",
   "metadata": {},
   "source": [
    "## Conditional execution "
   ]
  },
  {
   "cell_type": "markdown",
   "metadata": {},
   "source": [
    "_If_ statements are used to execute a set of commands only under certain conditions. The syntax is shown below. Note that the commands to be run conditionally are indented with a tab.\n",
    "\n",
    "<img src='https://www.programtopia.net/sites/default/files/if_0.png'>\n",
    "source(https://www.programtopia.net/sites/default/files/if_0.png)"
   ]
  },
  {
   "cell_type": "code",
   "execution_count": 35,
   "metadata": {},
   "outputs": [
    {
     "name": "stdout",
     "output_type": "stream",
     "text": [
      "x is positive\n",
      "another line\n",
      "done\n"
     ]
    }
   ],
   "source": [
    "x = 1\n",
    "if x > 0:\n",
    "    print('x is positive')\n",
    "    print('another line')\n",
    "if not x > 0:\n",
    "    print('x is negative')\n",
    "print('done')"
   ]
  },
  {
   "cell_type": "markdown",
   "metadata": {},
   "source": [
    "A chain of conditions can be created with `if`, `elif` and `else` blocks.\n",
    "<img src='https://www.programtopia.net/sites/default/files/if..elseif_0.png'>\n",
    "source( https://www.programtopia.net/sites/default/files/if..elseif_0.png)"
   ]
  },
  {
   "cell_type": "code",
   "execution_count": 36,
   "metadata": {},
   "outputs": [
    {
     "name": "stdout",
     "output_type": "stream",
     "text": [
      "x is positive\n"
     ]
    }
   ],
   "source": [
    "if x > 0:\n",
    "    print('x is positive')\n",
    "elif x < 0:\n",
    "    print('x is negative')\n",
    "else:\n",
    "    print('x is zero')"
   ]
  },
  {
   "cell_type": "markdown",
   "metadata": {},
   "source": [
    "__Exercise:__\n",
    "\n",
    "Using conditional execution, calculate the absolute value of a number (not using the built-in `abs` function)."
   ]
  },
  {
   "cell_type": "markdown",
   "metadata": {},
   "source": [
    "## Functions\n",
    "\n",
    "Functions can be used to package a set of instructions. These instructions can then be reused for different inputs. Using functions can save you a lot of copying and pasting. Also, if you find a bug in your set of instructions, you only have to fix it once if you use a function instead of copying and pasting."
   ]
  },
  {
   "cell_type": "code",
   "execution_count": 37,
   "metadata": {},
   "outputs": [
    {
     "name": "stdout",
     "output_type": "stream",
     "text": [
      "2.0\n"
     ]
    }
   ],
   "source": [
    "def mean(y):\n",
    "    '''This function returns the mean of y'''\n",
    "    meany = sum(y)/len(y)\n",
    "    return meany\n",
    "\n",
    "m = mean([1,2,3])\n",
    "print(m)"
   ]
  },
  {
   "cell_type": "code",
   "execution_count": 38,
   "metadata": {},
   "outputs": [
    {
     "name": "stdout",
     "output_type": "stream",
     "text": [
      "Help on function mean in module __main__:\n",
      "\n",
      "mean(y)\n",
      "    This function returns the mean of y\n",
      "\n"
     ]
    }
   ],
   "source": [
    "help(mean)"
   ]
  },
  {
   "cell_type": "markdown",
   "metadata": {
    "collapsed": true
   },
   "source": [
    "In IPython (and Jupyter notebooks) there is another way of asking for help by typing the function name with a question mark.\n",
    "\n",
    "`mean?`\n"
   ]
  },
  {
   "cell_type": "markdown",
   "metadata": {},
   "source": [
    "__Exercises:__\n",
    "    \n",
    "* Create a function that takes a number as input, and returns the square of that number.\n",
    "* Create a function to calculate the standard deviation of an array (not using the `np.sqrt` function)."
   ]
  },
  {
   "cell_type": "markdown",
   "metadata": {},
   "source": [
    "## Loops"
   ]
  },
  {
   "cell_type": "markdown",
   "metadata": {},
   "source": [
    "Loops are a way of repeating commands over and over again.\n",
    "\n",
    "A _while_ loop is an indefinite loop. It runs indefinitely until a certain condition is met. Be careful with while loops. If the condition is never met, the while loop will try to run forever."
   ]
  },
  {
   "cell_type": "code",
   "execution_count": 39,
   "metadata": {},
   "outputs": [
    {
     "name": "stdout",
     "output_type": "stream",
     "text": [
      "1\n",
      "2\n",
      "3\n",
      "4\n",
      "5\n",
      "done with while loop\n"
     ]
    }
   ],
   "source": [
    "i = 0\n",
    "while i<5:\n",
    "    i = i + 1\n",
    "    print(i)\n",
    "print('done with while loop')"
   ]
  },
  {
   "cell_type": "markdown",
   "metadata": {},
   "source": [
    "A _for_ loop is a definite loop. It iterates over a list, array or other variable types that are groups of values or other variables. It definitely stops when it gets to the end of the list."
   ]
  },
  {
   "cell_type": "code",
   "execution_count": 40,
   "metadata": {},
   "outputs": [
    {
     "name": "stdout",
     "output_type": "stream",
     "text": [
      "Hello Bob\n",
      "Hello Jane\n",
      "Hello Mary\n",
      "done\n"
     ]
    }
   ],
   "source": [
    "name_list = ['Bob','Jane','Mary']\n",
    "for name in name_list:\n",
    "    print(\"Hello \" + name)\n",
    "print('done')         "
   ]
  },
  {
   "cell_type": "markdown",
   "metadata": {},
   "source": [
    "An example of looping through a sequence of numbers created with the `np.arange()` function."
   ]
  },
  {
   "cell_type": "code",
   "execution_count": 41,
   "metadata": {},
   "outputs": [
    {
     "name": "stdout",
     "output_type": "stream",
     "text": [
      "[0 1 2 3 4]\n"
     ]
    }
   ],
   "source": [
    "import numpy as np\n",
    "print(np.arange(5))"
   ]
  },
  {
   "cell_type": "code",
   "execution_count": 42,
   "metadata": {},
   "outputs": [
    {
     "name": "stdout",
     "output_type": "stream",
     "text": [
      "[2 3 4]\n"
     ]
    }
   ],
   "source": [
    "print(np.arange(2,5))"
   ]
  },
  {
   "cell_type": "code",
   "execution_count": 43,
   "metadata": {},
   "outputs": [
    {
     "name": "stdout",
     "output_type": "stream",
     "text": [
      "[ 2.   2.5  3.   3.5  4.   4.5]\n"
     ]
    }
   ],
   "source": [
    "print(np.arange(2,5,0.5))"
   ]
  },
  {
   "cell_type": "code",
   "execution_count": 44,
   "metadata": {},
   "outputs": [
    {
     "name": "stdout",
     "output_type": "stream",
     "text": [
      "0\n",
      "2\n",
      "4\n",
      "6\n",
      "8\n"
     ]
    }
   ],
   "source": [
    "for i in np.arange(5):\n",
    "    print(i*2)"
   ]
  },
  {
   "cell_type": "markdown",
   "metadata": {
    "collapsed": true
   },
   "source": [
    "__Exercise__:\n",
    "\n",
    "Write a for loop that prints out the cumulative sum of an array. For example, the cumulative sum of the array\n",
    "\n",
    "```\n",
    "[1,3,6,4,7]\n",
    "```\n",
    "\n",
    "would be:\n",
    "\n",
    "```\n",
    "[1,4,10,14,21]\n",
    "```"
   ]
  },
  {
   "cell_type": "code",
   "execution_count": null,
   "metadata": {
    "collapsed": true
   },
   "outputs": [],
   "source": []
  }
 ],
 "metadata": {
  "anaconda-cloud": {},
  "kernelspec": {
   "display_name": "Python 3",
   "language": "python",
   "name": "python3"
  },
  "language_info": {
   "codemirror_mode": {
    "name": "ipython",
    "version": 3
   },
   "file_extension": ".py",
   "mimetype": "text/x-python",
   "name": "python",
   "nbconvert_exporter": "python",
   "pygments_lexer": "ipython3",
   "version": "3.6.3"
  }
 },
 "nbformat": 4,
 "nbformat_minor": 1
}
